{
 "cells": [
  {
   "cell_type": "markdown",
   "id": "d769ba7d",
   "metadata": {},
   "source": [
    "# Imports and data path"
   ]
  },
  {
   "cell_type": "code",
   "execution_count": 14,
   "id": "55ff39bd",
   "metadata": {
    "ExecuteTime": {
     "end_time": "2024-01-31T05:04:13.493756Z",
     "start_time": "2024-01-31T05:04:13.490835Z"
    }
   },
   "outputs": [],
   "source": [
    "import pandas as pd\n",
    "import glob\n",
    "from scipy import stats\n",
    "from statsmodels.stats.multitest import multipletests\n",
    "import numpy as np"
   ]
  },
  {
   "cell_type": "code",
   "execution_count": 15,
   "id": "7eea16ae",
   "metadata": {
    "ExecuteTime": {
     "end_time": "2024-01-31T05:04:13.701222Z",
     "start_time": "2024-01-31T05:04:13.697662Z"
    }
   },
   "outputs": [],
   "source": [
    "# Path to files\n",
    "data = '../outputs/fitness/'\n",
    "output = '../outputs/'\n",
    "\n",
    "# Define conditions for mapping names\n",
    "condition_map = dict(zip(['Untreated','Cpd100','Cpd200','Rif7','Rif7Cpd100'],\n",
    "                        ['Untreated','R0C100','R0C200','R7C0','R7C100']))"
   ]
  },
  {
   "cell_type": "markdown",
   "id": "5b432c63",
   "metadata": {},
   "source": [
    "# Process data \n",
    "\n",
    "\n",
    "1) Read in and pull together all aggregated csvs from different treatment conditions into same dataframe\n",
    "\n",
    "2) Calculate p-values \n",
    "\n",
    "3) Map back to gene names/products"
   ]
  },
  {
   "cell_type": "code",
   "execution_count": 16,
   "id": "5a2c0340",
   "metadata": {
    "ExecuteTime": {
     "end_time": "2024-01-31T05:04:13.973870Z",
     "start_time": "2024-01-31T05:04:13.970101Z"
    }
   },
   "outputs": [],
   "source": [
    "# Pull out list of aggregated fitness files\n",
    "file_list = glob.glob(data+'*Aggregated*')"
   ]
  },
  {
   "cell_type": "code",
   "execution_count": 17,
   "id": "366356eb",
   "metadata": {
    "ExecuteTime": {
     "end_time": "2024-01-31T05:04:14.227955Z",
     "start_time": "2024-01-31T05:04:14.120158Z"
    }
   },
   "outputs": [],
   "source": [
    "# Read in untreated fitness files first\n",
    "file = file_list[0]\n",
    "fitness_df = pd.read_csv(file)\n",
    "fitness_df = fitness_df.drop(columns='M')\n",
    "fitness_df = fitness_df.set_index('Locus')\n",
    "fitness_df.columns = [condition_map[file.split('/')[-1].split('_')[0]]+'_'+i for i in fitness_df.columns]\n",
    "\n",
    "# Merge the rest of the treatment conditions together\n",
    "for file in file_list[1:]:\n",
    "    curr_df = pd.read_csv(file)\n",
    "    curr_df = curr_df.drop(columns='M')\n",
    "    curr_df = curr_df.set_index('Locus')\n",
    "    curr_df.columns = [condition_map[file.split('/')[-1].split('_')[0]]+'_'+i for i in curr_df.columns]\n",
    "    fitness_df = fitness_df.merge(curr_df,left_index=True,right_index=True)"
   ]
  },
  {
   "cell_type": "code",
   "execution_count": 20,
   "id": "963c0e0e",
   "metadata": {
    "ExecuteTime": {
     "end_time": "2024-01-31T05:04:29.638178Z",
     "start_time": "2024-01-31T05:04:29.582420Z"
    }
   },
   "outputs": [],
   "source": [
    "# Pull out untreated values\n",
    "unt_df = fitness_df[fitness_df.columns[fitness_df.columns.str.contains('Untreated')]]\n",
    "\n",
    "# Loop through each condition and calculate p-values relative to untreated\n",
    "for cond in ['R0C100','R0C200','R7C0','R7C100']:\n",
    "    curr_annot_cond = fitness_df[fitness_df.columns[fitness_df.columns.str.contains(cond)]]\n",
    "    pvals = stats.ttest_ind_from_stats(unt_df['Untreated_W'],unt_df['Untreated_SD'],unt_df['Untreated_Count'],\n",
    "                                    curr_annot_cond[cond+'_W'],curr_annot_cond[cond+'_SD'],curr_annot_cond[cond+'_Count'])\n",
    "    fitness_df['p_'+cond] = pvals[1]\n",
    "    fitness_df['p_'+cond].fillna(1,inplace=True)\n",
    "    fitness_df['d_'+cond] = curr_annot_cond[cond+'_W'] - unt_df['Untreated_W']\n",
    "    pvals_corr = multipletests(fitness_df['p_'+cond],alpha=0.05, method='fdr_tsbky')\n",
    "    fitness_df['q_'+cond] = pvals_corr[1]\n",
    "    fitness_df['log10q_'+cond] = -np.log10(fitness_df['q_'+cond])\n",
    "    \n",
    "# Perform comparison between combo vs RIF only\n",
    "\n",
    "# Pull out RIF only values\n",
    "unt_df = fitness_df[fitness_df.columns[fitness_df.columns.str.contains('R7C0')]]\n",
    "\n",
    "cond = 'R7C100'\n",
    "curr_annot_cond = fitness_df[fitness_df.columns[fitness_df.columns.str.contains(cond)]]\n",
    "pvals = stats.ttest_ind_from_stats(unt_df['R7C0_W'],unt_df['R7C0_SD'],unt_df['R7C0_Count'],\n",
    "                                curr_annot_cond[cond+'_W'],curr_annot_cond[cond+'_SD'],curr_annot_cond[cond+'_Count'])\n",
    "fitness_df['p_R7C100vsR7C0'] = pvals[1]\n",
    "fitness_df['p_R7C100vsR7C0'].fillna(1,inplace=True)\n",
    "fitness_df['d_R7C100vsR7C0'] = curr_annot_cond[cond+'_W'] - unt_df['R7C0_W']\n",
    "pvals_corr = multipletests(fitness_df['p_'+cond],alpha=0.05, method='fdr_tsbky')\n",
    "fitness_df['q_R7C100vsR7C0'] = pvals_corr[1]\n",
    "fitness_df['log10q_R7C100vsR7C0'] = -np.log10(fitness_df['q_R7C100vsR7C0'])"
   ]
  },
  {
   "cell_type": "code",
   "execution_count": 21,
   "id": "78892c13",
   "metadata": {
    "ExecuteTime": {
     "end_time": "2024-01-31T05:04:35.146986Z",
     "start_time": "2024-01-31T05:04:30.366178Z"
    }
   },
   "outputs": [],
   "source": [
    "# Add gene annotations to the dataframe\n",
    "noteATCC = pd.read_excel('../ATCC annotations.xlsx')\n",
    "noteATCC.columns = ['Locus','Contig','Gene','Product']\n",
    "\n",
    "fitness_df = noteATCC.merge(fitness_df,on=['Locus'])\n",
    "\n",
    "# Save file\n",
    "fitness_df.to_csv(output+'aggregated_tn-seq.csv')"
   ]
  },
  {
   "cell_type": "code",
   "execution_count": null,
   "id": "fcac0a46",
   "metadata": {},
   "outputs": [],
   "source": []
  }
 ],
 "metadata": {
  "kernelspec": {
   "display_name": "Python 3",
   "language": "python",
   "name": "python3"
  },
  "language_info": {
   "codemirror_mode": {
    "name": "ipython",
    "version": 3
   },
   "file_extension": ".py",
   "mimetype": "text/x-python",
   "name": "python",
   "nbconvert_exporter": "python",
   "pygments_lexer": "ipython3",
   "version": "3.7.6"
  },
  "toc": {
   "base_numbering": 1,
   "nav_menu": {},
   "number_sections": true,
   "sideBar": true,
   "skip_h1_title": false,
   "title_cell": "Table of Contents",
   "title_sidebar": "Contents",
   "toc_cell": false,
   "toc_position": {},
   "toc_section_display": true,
   "toc_window_display": false
  }
 },
 "nbformat": 4,
 "nbformat_minor": 5
}
